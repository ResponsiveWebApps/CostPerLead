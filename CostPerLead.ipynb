{
 "cells": [
  {
   "cell_type": "code",
   "execution_count": 2,
   "metadata": {},
   "outputs": [
    {
     "name": "stdout",
     "output_type": "stream",
     "text": [
      "Cost per Lead : €1.46\n"
     ]
    }
   ],
   "source": [
    "#Cost Per Lead\n",
    "\n",
    "#Money spent to generate leads\n",
    "P = 1100\n",
    "#Leads generated\n",
    "L = 4000\n",
    "#Conversion rate to sales in decimals\n",
    "C = 0.188\n",
    "\n",
    "CPL = P/(C*L)\n",
    "CPL_str = \"{:.2f}\".format(CPL)\n",
    "\n",
    "print(\"Cost per Lead : €\" + CPL_str)"
   ]
  },
  {
   "cell_type": "code",
   "execution_count": 5,
   "metadata": {},
   "outputs": [
    {
     "data": {
      "image/png": "[encoded data removed]",
      "text/plain": [
       "<Figure size 432x288 with 1 Axes>"
      ]
     },
     "metadata": {
      "needs_background": "light"
     },
     "output_type": "display_data"
    }
   ],
   "source": [
    "import numpy as np\n",
    "import matplotlib.pyplot as plt\n",
    "# if using a Jupyter notebook, include:\n",
    "%matplotlib inline\n",
    "\n",
    "# build a bar plot\n",
    "plt.bar(['€ Spent on Ads', 'No. of Leads Generated'], [P, L])\n",
    "plt.title('Cost Per Lead : €' + CPL_str)\n",
    "plt.show()"
   ]
  },
  {
   "cell_type": "code",
   "execution_count": null,
   "metadata": {},
   "outputs": [],
   "source": []
  }
 ],
 "metadata": {
  "kernelspec": {
   "display_name": "Python 3",
   "language": "python",
   "name": "python3"
  },
  "language_info": {
   "codemirror_mode": {
    "name": "ipython",
    "version": 3
   },
   "file_extension": ".py",
   "mimetype": "text/x-python",
   "name": "python",
   "nbconvert_exporter": "python",
   "pygments_lexer": "ipython3",
   "version": "3.7.6"
  }
 },
 "nbformat": 4,
 "nbformat_minor": 2
}
